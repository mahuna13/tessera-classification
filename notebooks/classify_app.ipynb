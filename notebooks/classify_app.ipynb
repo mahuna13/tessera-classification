{
 "cells": [
  {
   "cell_type": "code",
   "execution_count": 10,
   "id": "b8d565d7-36be-4229-90aa-c4eed359f335",
   "metadata": {},
   "outputs": [
    {
     "data": {
      "text/plain": [
       "<module 'tesseraclassifier.habitat_classifier' from '/home/jk871/tessera-classification/src/tesseraclassifier/habitat_classifier.py'>"
      ]
     },
     "execution_count": 10,
     "metadata": {},
     "output_type": "execute_result"
    }
   ],
   "source": [
    "from tesseraclassifier import habitat_classifier\n",
    "from tesseraclassifier import classifier_utils, viz_utils\n",
    "import geopandas as gpd\n",
    "import tempfile\n",
    "from IPython.display import display\n",
    "\n",
    "import importlib\n",
    "importlib.reload(classifier_utils)\n",
    "importlib.reload(habitat_classifier)\n"
   ]
  },
  {
   "cell_type": "markdown",
   "id": "80e42f97-dece-4620-bd78-b8da64e76297",
   "metadata": {},
   "source": [
    "### Specify where the input labels are, and the output for the classification"
   ]
  },
  {
   "cell_type": "code",
   "execution_count": 2,
   "id": "88a0fa16-605a-4e8d-9049-b4aad2b41c97",
   "metadata": {},
   "outputs": [],
   "source": [
    "roi_name = \"Cambridge\"\n",
    "\n",
    "labels_json_file = f'/home/jk871/tessera-interactive-map/cambridge_labels.json'\n",
    "output_dir = f\"/home/jk871/cci_workshop/classification_outputs/{roi_name}\""
   ]
  },
  {
   "cell_type": "code",
   "execution_count": 3,
   "id": "1fff6ad7-e5b3-4c40-b5b8-953a4dda07dd",
   "metadata": {},
   "outputs": [
    {
     "name": "stdout",
     "output_type": "stream",
     "text": [
      "\n",
      "--- Step 1: Preparing Training Data ---\n",
      "Fetching list of all available tiles...\n",
      "Found 146452 total available tiles             for 2024.\n",
      "\n",
      "Processing point 1/36 at                     (52.1439, 0.0907)...\n",
      "\n",
      "Processing point 2/36 at                     (52.1443, 0.1440)...\n",
      "\n",
      "Processing point 3/36 at                     (52.1398, 0.1229)...\n",
      "\n",
      "Processing point 4/36 at                     (52.1409, 0.1313)...\n",
      "\n",
      "Processing point 5/36 at                     (52.1411, 0.1337)...\n",
      "\n",
      "Processing point 6/36 at                     (52.1370, 0.1060)...\n",
      "\n",
      "Processing point 7/36 at                     (52.1343, 0.1039)...\n",
      "\n",
      "Processing point 8/36 at                     (52.1294, 0.1093)...\n",
      "\n",
      "Processing point 9/36 at                     (52.1316, 0.1089)...\n",
      "\n",
      "Processing point 10/36 at                     (52.1308, 0.1269)...\n",
      "\n",
      "Processing point 11/36 at                     (52.1292, 0.1308)...\n",
      "\n",
      "Processing point 12/36 at                     (52.1253, 0.1283)...\n",
      "\n",
      "Processing point 13/36 at                     (52.1241, 0.1214)...\n",
      "\n",
      "Processing point 14/36 at                     (52.1231, 0.1202)...\n",
      "\n",
      "Processing point 15/36 at                     (52.1220, 0.1378)...\n",
      "\n",
      "Processing point 16/36 at                     (52.1241, 0.1383)...\n",
      "\n",
      "Processing point 17/36 at                     (52.1314, 0.1486)...\n",
      "\n",
      "Processing point 18/36 at                     (52.1325, 0.1486)...\n",
      "\n",
      "Processing point 19/36 at                     (52.1372, 0.1436)...\n",
      "\n",
      "Processing point 20/36 at                     (52.1388, 0.1436)...\n",
      "\n",
      "Processing point 21/36 at                     (52.1455, 0.1446)...\n",
      "\n",
      "Processing point 22/36 at                     (52.1461, 0.1429)...\n",
      "\n",
      "Processing point 23/36 at                     (52.1467, 0.1448)...\n",
      "\n",
      "Processing point 24/36 at                     (52.1484, 0.1584)...\n",
      "\n",
      "Processing point 25/36 at                     (52.1500, 0.1609)...\n",
      "\n",
      "Processing point 26/36 at                     (52.1500, 0.1670)...\n",
      "\n",
      "Processing point 27/36 at                     (52.1516, 0.1673)...\n",
      "\n",
      "Processing point 28/36 at                     (52.1514, 0.1613)...\n",
      "\n",
      "Processing point 29/36 at                     (52.1562, 0.1604)...\n",
      "\n",
      "Processing point 30/36 at                     (52.1522, 0.1781)...\n",
      "\n",
      "Processing point 31/36 at                     (52.1599, 0.1506)...\n",
      "\n",
      "Processing point 32/36 at                     (52.1706, 0.1054)...\n",
      "\n",
      "Processing point 33/36 at                     (52.1654, 0.1097)...\n",
      "\n",
      "Processing point 34/36 at                     (52.1684, 0.1229)...\n",
      "\n",
      "Processing point 35/36 at                     (52.1914, 0.1372)...\n",
      "\n",
      "Processing point 36/36 at                     (52.1851, 0.1428)...\n",
      "\n",
      "Extraction complete. Creating DataFrame.\n",
      "Successfully prepared 36 training samples.\n",
      "Class mapping created:\n",
      "{'Fields': 0, 'Forest': 1, 'Urban': 2, 'Water': 3}\n",
      "Classifier initialized for year 2024.\n",
      "\n",
      "--- Step 2: Training Model ---\n",
      "Training model on 36 samples...\n",
      "✅ Model training complete.\n"
     ]
    }
   ],
   "source": [
    "labels = classifier_utils.load_training_labels_from_json(labels_json_file)\n",
    "hc = habitat_classifier.HabitatClassifier(labels, 2024)\n",
    "hc.train()"
   ]
  },
  {
   "cell_type": "code",
   "execution_count": 5,
   "id": "596f1f9c-d7d0-4a5f-bd8a-717b0027b929",
   "metadata": {},
   "outputs": [
    {
     "name": "stdout",
     "output_type": "stream",
     "text": [
      "Found 2 tiles to process.\n",
      "Projecting points to a suitable local CRS: EPSG:32631\n",
      "Found 78 tiles to process.\n"
     ]
    }
   ],
   "source": [
    "# Classification dry run - just to estimate the size of each ROI\n",
    "hc.classify_tiles(None, hc.training_tiles, dry_run=True)\n",
    "hc.classify_region(None, classifier_utils.roi_from_points(labels, 30), dry_run=True)"
   ]
  },
  {
   "cell_type": "code",
   "execution_count": 7,
   "id": "c6e7f09e-fdc3-4e40-9ce8-cc6864e33e4a",
   "metadata": {},
   "outputs": [],
   "source": [
    "def run_classification(buffer_in_km):\n",
    "    key = \"bounding_box\"\n",
    "    temp_dir = tempfile.mkdtemp(prefix=f\"tessera_classify_{roi_name}_{key}_\")\n",
    "    hc.classify_region(temp_dir, classifier_utils.roi_from_points(labels, buffer_in_km), max_workers=50)\n",
    "    hc.mosaic_classification(temp_dir, f\"{output_dir}/{key}.tif\", cleanup=False)"
   ]
  },
  {
   "cell_type": "code",
   "execution_count": 8,
   "id": "0a857bba-b703-4f0f-80c0-92340ceab6e4",
   "metadata": {},
   "outputs": [
    {
     "name": "stdout",
     "output_type": "stream",
     "text": [
      "Projecting points to a suitable local CRS: EPSG:32631\n",
      "Found 78 tiles to process.\n",
      "\n",
      "Starting parallel classification using up to 50 CPU cores...\n"
     ]
    },
    {
     "name": "stderr",
     "output_type": "stream",
     "text": [
      "Downloading file '2024/grid_-0.35_51.75/grid_-0.35_51.75.npy' from 'https://dl-2.tessera.wiki/v1/global_0.1_degree_representation/2024/grid_-0.35_51.75/grid_-0.35_51.75.npy' to '/tessera/v1'.\n",
      "Downloading file '2024/grid_-0.35_51.75/grid_-0.35_51.75_scales.npy' from 'https://dl-2.tessera.wiki/v1/global_0.1_degree_representation/2024/grid_-0.35_51.75/grid_-0.35_51.75_scales.npy' to '/tessera/v1'.\n",
      "Downloading file 'grid_-0.35_51.75.tiff' from 'https://dl-2.tessera.wiki/v1/global_0.1_degree_tiff_all/grid_-0.35_51.75.tiff' to '/tessera/v1'.\n",
      "Downloading file '2024/grid_-0.25_51.75/grid_-0.25_51.75.npy' from 'https://dl-2.tessera.wiki/v1/global_0.1_degree_representation/2024/grid_-0.25_51.75/grid_-0.25_51.75.npy' to '/tessera/v1'.\n",
      "Downloading file '2024/grid_-0.25_51.75/grid_-0.25_51.75_scales.npy' from 'https://dl-2.tessera.wiki/v1/global_0.1_degree_representation/2024/grid_-0.25_51.75/grid_-0.25_51.75_scales.npy' to '/tessera/v1'.\n",
      "Downloading file 'grid_-0.25_51.75.tiff' from 'https://dl-2.tessera.wiki/v1/global_0.1_degree_tiff_all/grid_-0.25_51.75.tiff' to '/tessera/v1'.\n",
      "Downloading file '2024/grid_-0.15_51.75/grid_-0.15_51.75.npy' from 'https://dl-2.tessera.wiki/v1/global_0.1_degree_representation/2024/grid_-0.15_51.75/grid_-0.15_51.75.npy' to '/tessera/v1'.\n",
      "Downloading file '2024/grid_-0.15_51.75/grid_-0.15_51.75_scales.npy' from 'https://dl-2.tessera.wiki/v1/global_0.1_degree_representation/2024/grid_-0.15_51.75/grid_-0.15_51.75_scales.npy' to '/tessera/v1'.\n",
      "Downloading file '2024/grid_-0.05_51.75/grid_-0.05_51.75_scales.npy' from 'https://dl-2.tessera.wiki/v1/global_0.1_degree_representation/2024/grid_-0.05_51.75/grid_-0.05_51.75_scales.npy' to '/tessera/v1'.\n",
      "Downloading file '2024/grid_-0.05_51.75/grid_-0.05_51.75.npy' from 'https://dl-2.tessera.wiki/v1/global_0.1_degree_representation/2024/grid_-0.05_51.75/grid_-0.05_51.75.npy' to '/tessera/v1'.\n",
      "Downloading file 'grid_-0.15_51.75.tiff' from 'https://dl-2.tessera.wiki/v1/global_0.1_degree_tiff_all/grid_-0.15_51.75.tiff' to '/tessera/v1'.\n",
      "Downloading file 'grid_-0.05_51.75.tiff' from 'https://dl-2.tessera.wiki/v1/global_0.1_degree_tiff_all/grid_-0.05_51.75.tiff' to '/tessera/v1'.\n",
      "Downloading file '2024/grid_0.05_51.75/grid_0.05_51.75.npy' from 'https://dl-2.tessera.wiki/v1/global_0.1_degree_representation/2024/grid_0.05_51.75/grid_0.05_51.75.npy' to '/tessera/v1'.\n",
      "Downloading file '2024/grid_0.05_51.75/grid_0.05_51.75_scales.npy' from 'https://dl-2.tessera.wiki/v1/global_0.1_degree_representation/2024/grid_0.05_51.75/grid_0.05_51.75_scales.npy' to '/tessera/v1'.\n",
      "Downloading file 'grid_0.05_51.75.tiff' from 'https://dl-2.tessera.wiki/v1/global_0.1_degree_tiff_all/grid_0.05_51.75.tiff' to '/tessera/v1'.\n",
      "Downloading file '2024/grid_-0.35_51.85/grid_-0.35_51.85.npy' from 'https://dl-2.tessera.wiki/v1/global_0.1_degree_representation/2024/grid_-0.35_51.85/grid_-0.35_51.85.npy' to '/tessera/v1'.\n",
      "Downloading file '2024/grid_-0.35_51.85/grid_-0.35_51.85_scales.npy' from 'https://dl-2.tessera.wiki/v1/global_0.1_degree_representation/2024/grid_-0.35_51.85/grid_-0.35_51.85_scales.npy' to '/tessera/v1'.\n",
      "Downloading file 'grid_-0.35_51.85.tiff' from 'https://dl-2.tessera.wiki/v1/global_0.1_degree_tiff_all/grid_-0.35_51.85.tiff' to '/tessera/v1'.\n",
      "Downloading file '2024/grid_0.55_51.85/grid_0.55_51.85.npy' from 'https://dl-2.tessera.wiki/v1/global_0.1_degree_representation/2024/grid_0.55_51.85/grid_0.55_51.85.npy' to '/tessera/v1'.\n",
      "Downloading file '2024/grid_0.55_51.85/grid_0.55_51.85_scales.npy' from 'https://dl-2.tessera.wiki/v1/global_0.1_degree_representation/2024/grid_0.55_51.85/grid_0.55_51.85_scales.npy' to '/tessera/v1'.\n",
      "Downloading file 'grid_0.55_51.85.tiff' from 'https://dl-2.tessera.wiki/v1/global_0.1_degree_tiff_all/grid_0.55_51.85.tiff' to '/tessera/v1'.\n",
      "Downloading file '2024/grid_-0.35_51.95/grid_-0.35_51.95.npy' from 'https://dl-2.tessera.wiki/v1/global_0.1_degree_representation/2024/grid_-0.35_51.95/grid_-0.35_51.95.npy' to '/tessera/v1'.\n",
      "Downloading file '2024/grid_-0.35_51.95/grid_-0.35_51.95_scales.npy' from 'https://dl-2.tessera.wiki/v1/global_0.1_degree_representation/2024/grid_-0.35_51.95/grid_-0.35_51.95_scales.npy' to '/tessera/v1'.\n",
      "Downloading file 'grid_-0.35_51.95.tiff' from 'https://dl-2.tessera.wiki/v1/global_0.1_degree_tiff_all/grid_-0.35_51.95.tiff' to '/tessera/v1'.\n",
      "Downloading file '2024/grid_0.55_51.95/grid_0.55_51.95.npy' from 'https://dl-2.tessera.wiki/v1/global_0.1_degree_representation/2024/grid_0.55_51.95/grid_0.55_51.95.npy' to '/tessera/v1'.\n",
      "Downloading file '2024/grid_0.55_51.95/grid_0.55_51.95_scales.npy' from 'https://dl-2.tessera.wiki/v1/global_0.1_degree_representation/2024/grid_0.55_51.95/grid_0.55_51.95_scales.npy' to '/tessera/v1'.\n",
      "Downloading file 'grid_0.55_51.95.tiff' from 'https://dl-2.tessera.wiki/v1/global_0.1_degree_tiff_all/grid_0.55_51.95.tiff' to '/tessera/v1'.\n",
      "Downloading file '2024/grid_-0.35_52.05/grid_-0.35_52.05.npy' from 'https://dl-2.tessera.wiki/v1/global_0.1_degree_representation/2024/grid_-0.35_52.05/grid_-0.35_52.05.npy' to '/tessera/v1'.\n",
      "Downloading file '2024/grid_-0.35_52.05/grid_-0.35_52.05_scales.npy' from 'https://dl-2.tessera.wiki/v1/global_0.1_degree_representation/2024/grid_-0.35_52.05/grid_-0.35_52.05_scales.npy' to '/tessera/v1'.\n",
      "Downloading file 'grid_-0.35_52.05.tiff' from 'https://dl-2.tessera.wiki/v1/global_0.1_degree_tiff_all/grid_-0.35_52.05.tiff' to '/tessera/v1'.\n",
      "Downloading file '2024/grid_0.55_52.05/grid_0.55_52.05.npy' from 'https://dl-2.tessera.wiki/v1/global_0.1_degree_representation/2024/grid_0.55_52.05/grid_0.55_52.05.npy' to '/tessera/v1'.\n",
      "Downloading file '2024/grid_0.55_52.05/grid_0.55_52.05_scales.npy' from 'https://dl-2.tessera.wiki/v1/global_0.1_degree_representation/2024/grid_0.55_52.05/grid_0.55_52.05_scales.npy' to '/tessera/v1'.\n",
      "Downloading file '2024/grid_-0.45_52.15/grid_-0.45_52.15.npy' from 'https://dl-2.tessera.wiki/v1/global_0.1_degree_representation/2024/grid_-0.45_52.15/grid_-0.45_52.15.npy' to '/tessera/v1'.\n",
      "Downloading file 'grid_0.55_52.05.tiff' from 'https://dl-2.tessera.wiki/v1/global_0.1_degree_tiff_all/grid_0.55_52.05.tiff' to '/tessera/v1'.\n",
      "Downloading file '2024/grid_-0.45_52.15/grid_-0.45_52.15_scales.npy' from 'https://dl-2.tessera.wiki/v1/global_0.1_degree_representation/2024/grid_-0.45_52.15/grid_-0.45_52.15_scales.npy' to '/tessera/v1'.\n",
      "Downloading file 'grid_-0.45_52.15.tiff' from 'https://dl-2.tessera.wiki/v1/global_0.1_degree_tiff_all/grid_-0.45_52.15.tiff' to '/tessera/v1'.\n",
      "Downloading file '2024/grid_-0.35_52.15/grid_-0.35_52.15.npy' from 'https://dl-2.tessera.wiki/v1/global_0.1_degree_representation/2024/grid_-0.35_52.15/grid_-0.35_52.15.npy' to '/tessera/v1'.\n",
      "Downloading file '2024/grid_-0.35_52.15/grid_-0.35_52.15_scales.npy' from 'https://dl-2.tessera.wiki/v1/global_0.1_degree_representation/2024/grid_-0.35_52.15/grid_-0.35_52.15_scales.npy' to '/tessera/v1'.\n",
      "Downloading file 'grid_-0.35_52.15.tiff' from 'https://dl-2.tessera.wiki/v1/global_0.1_degree_tiff_all/grid_-0.35_52.15.tiff' to '/tessera/v1'.\n",
      "Downloading file '2024/grid_0.55_52.15/grid_0.55_52.15.npy' from 'https://dl-2.tessera.wiki/v1/global_0.1_degree_representation/2024/grid_0.55_52.15/grid_0.55_52.15.npy' to '/tessera/v1'.\n",
      "Downloading file '2024/grid_0.55_52.15/grid_0.55_52.15_scales.npy' from 'https://dl-2.tessera.wiki/v1/global_0.1_degree_representation/2024/grid_0.55_52.15/grid_0.55_52.15_scales.npy' to '/tessera/v1'.\n",
      "Downloading file '2024/grid_-0.45_52.25/grid_-0.45_52.25.npy' from 'https://dl-2.tessera.wiki/v1/global_0.1_degree_representation/2024/grid_-0.45_52.25/grid_-0.45_52.25.npy' to '/tessera/v1'.\n",
      "Downloading file 'grid_0.55_52.15.tiff' from 'https://dl-2.tessera.wiki/v1/global_0.1_degree_tiff_all/grid_0.55_52.15.tiff' to '/tessera/v1'.\n",
      "Downloading file '2024/grid_-0.45_52.25/grid_-0.45_52.25_scales.npy' from 'https://dl-2.tessera.wiki/v1/global_0.1_degree_representation/2024/grid_-0.45_52.25/grid_-0.45_52.25_scales.npy' to '/tessera/v1'.\n",
      "Downloading file '2024/grid_-0.35_52.25/grid_-0.35_52.25.npy' from 'https://dl-2.tessera.wiki/v1/global_0.1_degree_representation/2024/grid_-0.35_52.25/grid_-0.35_52.25.npy' to '/tessera/v1'.\n",
      "Downloading file 'grid_-0.45_52.25.tiff' from 'https://dl-2.tessera.wiki/v1/global_0.1_degree_tiff_all/grid_-0.45_52.25.tiff' to '/tessera/v1'.\n",
      "Downloading file '2024/grid_-0.35_52.25/grid_-0.35_52.25_scales.npy' from 'https://dl-2.tessera.wiki/v1/global_0.1_degree_representation/2024/grid_-0.35_52.25/grid_-0.35_52.25_scales.npy' to '/tessera/v1'.\n",
      "Downloading file 'grid_-0.35_52.25.tiff' from 'https://dl-2.tessera.wiki/v1/global_0.1_degree_tiff_all/grid_-0.35_52.25.tiff' to '/tessera/v1'.\n",
      "Downloading file '2024/grid_0.55_52.25/grid_0.55_52.25.npy' from 'https://dl-2.tessera.wiki/v1/global_0.1_degree_representation/2024/grid_0.55_52.25/grid_0.55_52.25.npy' to '/tessera/v1'.\n",
      "Downloading file '2024/grid_0.55_52.25/grid_0.55_52.25_scales.npy' from 'https://dl-2.tessera.wiki/v1/global_0.1_degree_representation/2024/grid_0.55_52.25/grid_0.55_52.25_scales.npy' to '/tessera/v1'.\n",
      "Downloading file 'grid_0.55_52.25.tiff' from 'https://dl-2.tessera.wiki/v1/global_0.1_degree_tiff_all/grid_0.55_52.25.tiff' to '/tessera/v1'.\n",
      "Downloading file '2024/grid_-0.45_52.35/grid_-0.45_52.35.npy' from 'https://dl-2.tessera.wiki/v1/global_0.1_degree_representation/2024/grid_-0.45_52.35/grid_-0.45_52.35.npy' to '/tessera/v1'.\n",
      "Downloading file '2024/grid_-0.45_52.35/grid_-0.45_52.35_scales.npy' from 'https://dl-2.tessera.wiki/v1/global_0.1_degree_representation/2024/grid_-0.45_52.35/grid_-0.45_52.35_scales.npy' to '/tessera/v1'.\n",
      "Downloading file '2024/grid_-0.35_52.35/grid_-0.35_52.35.npy' from 'https://dl-2.tessera.wiki/v1/global_0.1_degree_representation/2024/grid_-0.35_52.35/grid_-0.35_52.35.npy' to '/tessera/v1'.\n",
      "Downloading file 'grid_-0.45_52.35.tiff' from 'https://dl-2.tessera.wiki/v1/global_0.1_degree_tiff_all/grid_-0.45_52.35.tiff' to '/tessera/v1'.\n",
      "Downloading file '2024/grid_-0.35_52.35/grid_-0.35_52.35_scales.npy' from 'https://dl-2.tessera.wiki/v1/global_0.1_degree_representation/2024/grid_-0.35_52.35/grid_-0.35_52.35_scales.npy' to '/tessera/v1'.\n",
      "Downloading file 'grid_-0.35_52.35.tiff' from 'https://dl-2.tessera.wiki/v1/global_0.1_degree_tiff_all/grid_-0.35_52.35.tiff' to '/tessera/v1'.\n",
      "Downloading file '2024/grid_0.55_52.35/grid_0.55_52.35.npy' from 'https://dl-2.tessera.wiki/v1/global_0.1_degree_representation/2024/grid_0.55_52.35/grid_0.55_52.35.npy' to '/tessera/v1'.\n",
      "Downloading file '2024/grid_0.55_52.35/grid_0.55_52.35_scales.npy' from 'https://dl-2.tessera.wiki/v1/global_0.1_degree_representation/2024/grid_0.55_52.35/grid_0.55_52.35_scales.npy' to '/tessera/v1'.\n",
      "Downloading file 'grid_0.55_52.35.tiff' from 'https://dl-2.tessera.wiki/v1/global_0.1_degree_tiff_all/grid_0.55_52.35.tiff' to '/tessera/v1'.\n",
      "Downloading file '2024/grid_-0.35_52.45/grid_-0.35_52.45.npy' from 'https://dl-2.tessera.wiki/v1/global_0.1_degree_representation/2024/grid_-0.35_52.45/grid_-0.35_52.45.npy' to '/tessera/v1'.\n",
      "Downloading file '2024/grid_-0.35_52.45/grid_-0.35_52.45_scales.npy' from 'https://dl-2.tessera.wiki/v1/global_0.1_degree_representation/2024/grid_-0.35_52.45/grid_-0.35_52.45_scales.npy' to '/tessera/v1'.\n",
      "Downloading file 'grid_-0.35_52.45.tiff' from 'https://dl-2.tessera.wiki/v1/global_0.1_degree_tiff_all/grid_-0.35_52.45.tiff' to '/tessera/v1'.\n",
      "Downloading file '2024/grid_-0.25_52.45/grid_-0.25_52.45.npy' from 'https://dl-2.tessera.wiki/v1/global_0.1_degree_representation/2024/grid_-0.25_52.45/grid_-0.25_52.45.npy' to '/tessera/v1'.\n",
      "Downloading file '2024/grid_-0.25_52.45/grid_-0.25_52.45_scales.npy' from 'https://dl-2.tessera.wiki/v1/global_0.1_degree_representation/2024/grid_-0.25_52.45/grid_-0.25_52.45_scales.npy' to '/tessera/v1'.\n",
      "Downloading file '2024/grid_-0.15_52.45/grid_-0.15_52.45.npy' from 'https://dl-2.tessera.wiki/v1/global_0.1_degree_representation/2024/grid_-0.15_52.45/grid_-0.15_52.45.npy' to '/tessera/v1'.\n",
      "Downloading file 'grid_-0.25_52.45.tiff' from 'https://dl-2.tessera.wiki/v1/global_0.1_degree_tiff_all/grid_-0.25_52.45.tiff' to '/tessera/v1'.\n",
      "Downloading file '2024/grid_-0.15_52.45/grid_-0.15_52.45_scales.npy' from 'https://dl-2.tessera.wiki/v1/global_0.1_degree_representation/2024/grid_-0.15_52.45/grid_-0.15_52.45_scales.npy' to '/tessera/v1'.\n",
      "Downloading file 'grid_-0.15_52.45.tiff' from 'https://dl-2.tessera.wiki/v1/global_0.1_degree_tiff_all/grid_-0.15_52.45.tiff' to '/tessera/v1'.\n",
      "Downloading file '2024/grid_-0.05_52.45/grid_-0.05_52.45.npy' from 'https://dl-2.tessera.wiki/v1/global_0.1_degree_representation/2024/grid_-0.05_52.45/grid_-0.05_52.45.npy' to '/tessera/v1'.\n",
      "Downloading file '2024/grid_-0.05_52.45/grid_-0.05_52.45_scales.npy' from 'https://dl-2.tessera.wiki/v1/global_0.1_degree_representation/2024/grid_-0.05_52.45/grid_-0.05_52.45_scales.npy' to '/tessera/v1'.\n",
      "Downloading file '2024/grid_0.05_52.45/grid_0.05_52.45.npy' from 'https://dl-2.tessera.wiki/v1/global_0.1_degree_representation/2024/grid_0.05_52.45/grid_0.05_52.45.npy' to '/tessera/v1'.\n",
      "Downloading file 'grid_-0.05_52.45.tiff' from 'https://dl-2.tessera.wiki/v1/global_0.1_degree_tiff_all/grid_-0.05_52.45.tiff' to '/tessera/v1'.\n",
      "Downloading file '2024/grid_0.05_52.45/grid_0.05_52.45_scales.npy' from 'https://dl-2.tessera.wiki/v1/global_0.1_degree_representation/2024/grid_0.05_52.45/grid_0.05_52.45_scales.npy' to '/tessera/v1'.\n",
      "Downloading file '2024/grid_0.15_52.45/grid_0.15_52.45.npy' from 'https://dl-2.tessera.wiki/v1/global_0.1_degree_representation/2024/grid_0.15_52.45/grid_0.15_52.45.npy' to '/tessera/v1'.\n",
      "Downloading file 'grid_0.05_52.45.tiff' from 'https://dl-2.tessera.wiki/v1/global_0.1_degree_tiff_all/grid_0.05_52.45.tiff' to '/tessera/v1'.\n",
      "Downloading file '2024/grid_0.15_52.45/grid_0.15_52.45_scales.npy' from 'https://dl-2.tessera.wiki/v1/global_0.1_degree_representation/2024/grid_0.15_52.45/grid_0.15_52.45_scales.npy' to '/tessera/v1'.\n",
      "Downloading file '2024/grid_0.25_52.45/grid_0.25_52.45_scales.npy' from 'https://dl-2.tessera.wiki/v1/global_0.1_degree_representation/2024/grid_0.25_52.45/grid_0.25_52.45_scales.npy' to '/tessera/v1'.\n",
      "Downloading file '2024/grid_0.25_52.45/grid_0.25_52.45.npy' from 'https://dl-2.tessera.wiki/v1/global_0.1_degree_representation/2024/grid_0.25_52.45/grid_0.25_52.45.npy' to '/tessera/v1'.\n",
      "Downloading file 'grid_0.15_52.45.tiff' from 'https://dl-2.tessera.wiki/v1/global_0.1_degree_tiff_all/grid_0.15_52.45.tiff' to '/tessera/v1'.\n",
      "Downloading file '2024/grid_0.35_52.45/grid_0.35_52.45.npy' from 'https://dl-2.tessera.wiki/v1/global_0.1_degree_representation/2024/grid_0.35_52.45/grid_0.35_52.45.npy' to '/tessera/v1'.\n",
      "Downloading file 'grid_0.25_52.45.tiff' from 'https://dl-2.tessera.wiki/v1/global_0.1_degree_tiff_all/grid_0.25_52.45.tiff' to '/tessera/v1'.\n",
      "Downloading file '2024/grid_0.35_52.45/grid_0.35_52.45_scales.npy' from 'https://dl-2.tessera.wiki/v1/global_0.1_degree_representation/2024/grid_0.35_52.45/grid_0.35_52.45_scales.npy' to '/tessera/v1'.\n",
      "Downloading file '2024/grid_0.45_52.45/grid_0.45_52.45.npy' from 'https://dl-2.tessera.wiki/v1/global_0.1_degree_representation/2024/grid_0.45_52.45/grid_0.45_52.45.npy' to '/tessera/v1'.\n",
      "Downloading file 'grid_0.35_52.45.tiff' from 'https://dl-2.tessera.wiki/v1/global_0.1_degree_tiff_all/grid_0.35_52.45.tiff' to '/tessera/v1'.\n",
      "Downloading file '2024/grid_0.45_52.45/grid_0.45_52.45_scales.npy' from 'https://dl-2.tessera.wiki/v1/global_0.1_degree_representation/2024/grid_0.45_52.45/grid_0.45_52.45_scales.npy' to '/tessera/v1'.\n",
      "Downloading file '2024/grid_0.55_52.45/grid_0.55_52.45.npy' from 'https://dl-2.tessera.wiki/v1/global_0.1_degree_representation/2024/grid_0.55_52.45/grid_0.55_52.45.npy' to '/tessera/v1'.\n",
      "Downloading file 'grid_0.45_52.45.tiff' from 'https://dl-2.tessera.wiki/v1/global_0.1_degree_tiff_all/grid_0.45_52.45.tiff' to '/tessera/v1'.\n",
      "Downloading file '2024/grid_0.55_52.45/grid_0.55_52.45_scales.npy' from 'https://dl-2.tessera.wiki/v1/global_0.1_degree_representation/2024/grid_0.55_52.45/grid_0.55_52.45_scales.npy' to '/tessera/v1'.\n",
      "Downloading file 'grid_0.55_52.45.tiff' from 'https://dl-2.tessera.wiki/v1/global_0.1_degree_tiff_all/grid_0.55_52.45.tiff' to '/tessera/v1'.\n"
     ]
    },
    {
     "name": "stdout",
     "output_type": "stream",
     "text": [
      "\n",
      "Parallel processing complete. 78 of 78 tiles were successfully classified.\n",
      "Intermediate classified tiles saved in: /tmp/tessera_classify_Cambridge_bounding_box_oducg13g\n",
      "LALAL\n",
      "False\n",
      "Using EPSG:32630 as the common projection for stitching.\n",
      "Starting parallel reprojection of 78 tiles...\n",
      "\n",
      "Stitching 78 aligned tiles into final map...\n",
      "✅ Successfully created final classification map: /home/jk871/cci_workshop/classification_outputs/Cambridge/bounding_box.tif\n"
     ]
    }
   ],
   "source": [
    "run_classification(30)"
   ]
  },
  {
   "cell_type": "code",
   "execution_count": 13,
   "id": "12e1eb8b-9ca7-4f81-914d-392e604cb2ec",
   "metadata": {},
   "outputs": [
    {
     "name": "stdout",
     "output_type": "stream",
     "text": [
      "--- Loading Mappings for Visualization ---\n",
      "Generated class mappings from all labels in the file.\n",
      "Loaded 4 color definitions.\n",
      "✅ Mappings ready for visualization.\n",
      "Reprojecting classified raster to Web Mercator...\n",
      "Converting warped raster to displayable image...\n",
      "✅ Interactive map with legend created.\n"
     ]
    },
    {
     "data": {
      "application/vnd.jupyter.widget-view+json": {
       "model_id": "0408c49fd62c494eada8031d47a4b6e3",
       "version_major": 2,
       "version_minor": 0
      },
      "text/plain": [
       "VBox(children=(Map(center=[52.10201786759574, 0.06185716503447691], controls=(ZoomControl(options=['position',…"
      ]
     },
     "metadata": {},
     "output_type": "display_data"
    }
   ],
   "source": [
    "# Define paths to your data\n",
    "key = \"bounding_box\"\n",
    "CLASSIFIED_TILE = f\"{output_dir}/{key}.tif\"\n",
    "label_to_id, id_to_label, class_colors = classifier_utils.load_visualization_mappings(labels_json_file)\n",
    "\n",
    "interactive_map = viz_utils.create_interactive_map(\n",
    "    classified_raster_path=CLASSIFIED_TILE,\n",
    "    training_points=labels,\n",
    "    id_to_label=id_to_label,\n",
    "    class_colors_hex=class_colors\n",
    ")\n",
    "\n",
    "display(interactive_map)"
   ]
  },
  {
   "cell_type": "code",
   "execution_count": null,
   "id": "f25fbdb4-dcbf-4ad5-ab7a-d90c1ad89fe0",
   "metadata": {},
   "outputs": [],
   "source": []
  }
 ],
 "metadata": {
  "kernelspec": {
   "display_name": "Python 3 (ipykernel)",
   "language": "python",
   "name": "python3"
  },
  "language_info": {
   "codemirror_mode": {
    "name": "ipython",
    "version": 3
   },
   "file_extension": ".py",
   "mimetype": "text/x-python",
   "name": "python",
   "nbconvert_exporter": "python",
   "pygments_lexer": "ipython3",
   "version": "3.11.6"
  }
 },
 "nbformat": 4,
 "nbformat_minor": 5
}
