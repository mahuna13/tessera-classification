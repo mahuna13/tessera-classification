{
 "cells": [
  {
   "cell_type": "code",
   "execution_count": 1,
   "metadata": {},
   "outputs": [],
   "source": [
    "import json\n",
    "import rasterio\n",
    "import rasterio.plot\n",
    "import matplotlib.pyplot as plt\n",
    "from matplotlib.patches import Patch\n",
    "from rasterio.warp import calculate_default_transform, reproject, Resampling\n",
    "import numpy as np\n",
    "from pyproj import Transformer\n",
    "import pandas as pd\n",
    "from typing import Dict\n",
    "from tesseraclassifier import classifier_utils\n",
    "import json\n",
    "import base64\n",
    "from io import BytesIO\n",
    "\n",
    "import json\n",
    "from typing import Dict, List, Tuple\n",
    "\n",
    "# Assume these other imports are available for the interactive map function\n",
    "import base64\n",
    "from io import BytesIO\n",
    "import numpy as np\n",
    "import rasterio\n",
    "import rasterio.warp\n",
    "from PIL import Image\n",
    "import ipywidgets as widgets\n",
    "from ipyleaflet import (Map, TileLayer, CircleMarker, LayerGroup, \n",
    "                        FullScreenControl, LayersControl, ImageOverlay, WidgetControl)\n",
    "from IPython.display import display\n",
    "import geopandas as gpd\n",
    "import ipywidgets as widgets\n",
    "from ipyleaflet import Map, TileLayer, CircleMarker, LayerGroup, FullScreenControl, LayersControl, ImageOverlay\n",
    "from IPython.display import display\n",
    "import numpy as np\n",
    "import rasterio\n",
    "import rasterio.warp\n",
    "from PIL import Image\n",
    "from typing import Dict"
   ]
  },
  {
   "cell_type": "code",
   "execution_count": 10,
   "metadata": {},
   "outputs": [],
   "source": [
    "from ipywidgets import Layout\n",
    "def create_interactive_map(\n",
    "    classified_raster_path: str,\n",
    "    training_points: list,\n",
    "    id_to_label: Dict[int, str],\n",
    "    class_colors_hex: Dict[str, str]\n",
    "):\n",
    "    \"\"\"\n",
    "    Creates a correctly aligned interactive map with a legend by pre-warping \n",
    "    the raster to the Web Mercator projection before display.\n",
    "\n",
    "    Args:\n",
    "        classified_raster_path: Path to the classified GeoTIFF file.\n",
    "        training_points: A list of dictionaries for the labeled points.\n",
    "        id_to_label: Mapping from integer IDs back to string labels.\n",
    "        class_colors_hex: Mapping from string labels to hex color codes.\n",
    "    \"\"\"\n",
    "    # 1. Create a numeric colormap from the provided mappings\n",
    "    max_id = max(id_to_label.keys()) if id_to_label else 0\n",
    "    colormap = np.zeros((max_id + 1, 3), dtype=np.uint8)\n",
    "    for class_id, label in id_to_label.items():\n",
    "        hex_color = class_colors_hex.get(label, \"#FF00FF\") # Default to magenta\n",
    "        rgb = tuple(int(hex_color.lstrip('#')[i:i+2], 16) for i in (0, 2, 4))\n",
    "        colormap[class_id] = rgb\n",
    "\n",
    "    # 2. Pre-warp the raster to Web Mercator (EPSG:3857)\n",
    "    print(\"Reprojecting classified raster to Web Mercator...\")\n",
    "    with rasterio.open(classified_raster_path) as src:\n",
    "        dst_crs = 'EPSG:3857'\n",
    "        transform, width, height = rasterio.warp.calculate_default_transform(\n",
    "            src.crs, dst_crs, src.width, src.height, *src.bounds\n",
    "        )\n",
    "        warped_data = np.zeros((height, width), dtype=np.uint8)\n",
    "\n",
    "        rasterio.warp.reproject(\n",
    "            source=rasterio.band(src, 1),\n",
    "            destination=warped_data,\n",
    "            src_transform=src.transform,\n",
    "            src_crs=src.crs,\n",
    "            dst_transform=transform,\n",
    "            dst_crs=dst_crs,\n",
    "            resampling=rasterio.warp.Resampling.nearest\n",
    "        )\n",
    "        \n",
    "        # 3. Calculate the WGS84 (Lat/Lon) bounds of the new warped image\n",
    "        warped_bounds = rasterio.warp.transform_bounds(\n",
    "            dst_crs, 'EPSG:4326', *rasterio.transform.array_bounds(height, width, transform)\n",
    "        )\n",
    "        left, bottom, right, top = warped_bounds\n",
    "        image_bounds = [[bottom, left], [top, right]]\n",
    "\n",
    "    # 4. Convert the warped data to a colorized PNG\n",
    "    print(\"Converting warped raster to displayable image...\")\n",
    "    nodata_value = src.nodata if src.nodata is not None else -1\n",
    "    alpha = np.where(warped_data == nodata_value, 0, 255).astype(np.uint8)\n",
    "    rgb_image_data = colormap[warped_data]\n",
    "    rgba_image_data = np.dstack((rgb_image_data, alpha))\n",
    "\n",
    "    image = Image.fromarray(rgba_image_data, 'RGBA')\n",
    "    buffer = BytesIO()\n",
    "    image.save(buffer, 'PNG')\n",
    "    data_url = 'data:image/png;base64,' + base64.b64encode(buffer.getvalue()).decode('utf-8')\n",
    "\n",
    "    # 5. Create the map and overlays\n",
    "    center_lat = (image_bounds[0][0] + image_bounds[1][0]) / 2\n",
    "    center_lon = (image_bounds[0][1] + image_bounds[1][1]) / 2\n",
    "\n",
    "    map_layout = Layout(height='600px', width='100%')\n",
    "    m = Map(center=(center_lat, center_lon), zoom=10, layout=map_layout)\n",
    "    m.add(TileLayer(url='https://server.arcgisonline.com/ArcGIS/rest/services/World_Imagery/MapServer/tile/{z}/{y}/{x}', name='Esri Satellite'))\n",
    "    m.add(LayersControl(position='topright'))\n",
    "    m.add(FullScreenControl())\n",
    "\n",
    "    classification_overlay = ImageOverlay(url=data_url, bounds=image_bounds, name=\"Classification\")\n",
    "    m.add(classification_overlay)\n",
    "    \n",
    "    markers = [CircleMarker(location=(p['lat'], p['lon']), radius=5, color=\"white\", weight=1,\n",
    "                            fill_color=class_colors_hex.get(p['label'], \"#FF00FF\"), fill_opacity=0.8)\n",
    "               for p in training_points]\n",
    "    points_layer = LayerGroup(layers=markers, name=\"Training Points\")\n",
    "    m.add(points_layer)\n",
    "\n",
    "    # 6. Create Legend\n",
    "    legend_html = \"<h4>Classification Legend</h4>\"\n",
    "    legend_html += '<div style=\"background-color: rgba(255, 255, 255, 0.8); padding: 10px; border-radius: 5px;\">'\n",
    "    for class_id, label in sorted(id_to_label.items()):\n",
    "        color = class_colors_hex.get(label, \"#FF00FF\")\n",
    "        legend_html += f'<div><i style=\"background:{color}; width: 15px; height: 15px; display: inline-block; border: 1px solid black; margin-right: 5px;\"></i>{label}</div>'\n",
    "    legend_html += \"</div>\"\n",
    "    \n",
    "    legend_widget = widgets.HTML(value=legend_html)\n",
    "    legend_control = WidgetControl(widget=legend_widget, position='bottomright')\n",
    "    m.add(legend_control)\n",
    "\n",
    "    # 7. Create Opacity Control\n",
    "    opacity_slider = widgets.FloatSlider(value=0.7, min=0, max=1.0, step=0.05, description='Opacity:')\n",
    "    def update_opacity(change):\n",
    "        classification_overlay.opacity = change['new']\n",
    "    opacity_slider.observe(update_opacity, names='value')\n",
    "    update_opacity({'new': opacity_slider.value})\n",
    "    \n",
    "    print(\"✅ Interactive map with legend created.\")\n",
    "    return widgets.VBox([m, opacity_slider])"
   ]
  },
  {
   "cell_type": "code",
   "execution_count": 11,
   "metadata": {},
   "outputs": [
    {
     "name": "stdout",
     "output_type": "stream",
     "text": [
      "--- Loading Mappings for Visualization ---\n",
      "Generated class mappings from all labels in the file.\n",
      "Loaded 13 color definitions.\n",
      "✅ Mappings ready for visualization.\n",
      "Reprojecting classified raster to Web Mercator...\n",
      "Converting warped raster to displayable image...\n"
     ]
    },
    {
     "name": "stderr",
     "output_type": "stream",
     "text": [
      "/tmp/ipykernel_99224/3608076599.py:59: DeprecationWarning: 'mode' parameter is deprecated and will be removed in Pillow 13 (2026-10-15)\n",
      "  image = Image.fromarray(rgba_image_data, 'RGBA')\n"
     ]
    },
    {
     "name": "stdout",
     "output_type": "stream",
     "text": [
      "✅ Interactive map with legend created.\n"
     ]
    },
    {
     "data": {
      "application/vnd.jupyter.widget-view+json": {
       "model_id": "a33004b60c26439ca1b9d5c565342de9",
       "version_major": 2,
       "version_minor": 0
      },
      "text/plain": [
       "VBox(children=(Map(center=[56.997796711541326, -3.709258124330135], controls=(ZoomControl(options=['position',…"
      ]
     },
     "metadata": {},
     "output_type": "display_data"
    }
   ],
   "source": [
    "# Define paths to your data\n",
    "labels_json_file = f'../workshop_labels/cairngorms_labels_new.json'\n",
    "CLASSIFIED_TILE = \"/home/jk871/cci_workshop/classification_outputs/Cairngorms/entire_roi.tif\"\n",
    "\n",
    "labels = classifier_utils.load_training_labels_from_json(labels_json_file)\n",
    "label_to_id, id_to_label, class_colors = classifier_utils.load_visualization_mappings(labels_json_file)\n",
    "\n",
    "interactive_map = create_interactive_map(\n",
    "    classified_raster_path=CLASSIFIED_TILE,\n",
    "    training_points=labels,\n",
    "    id_to_label=id_to_label,\n",
    "    class_colors_hex=class_colors\n",
    ")\n",
    "\n",
    "display(interactive_map)"
   ]
  },
  {
   "cell_type": "code",
   "execution_count": null,
   "metadata": {},
   "outputs": [],
   "source": []
  },
  {
   "cell_type": "code",
   "execution_count": 13,
   "metadata": {},
   "outputs": [
    {
     "name": "stdout",
     "output_type": "stream",
     "text": [
      "--- Loading Mappings for Visualization ---\n",
      "Generated class mappings from all labels in the file.\n",
      "Loaded 4 color definitions.\n",
      "✅ Mappings ready for visualization.\n",
      "Reprojecting classified raster to Web Mercator...\n",
      "Converting warped raster to displayable image...\n"
     ]
    },
    {
     "name": "stderr",
     "output_type": "stream",
     "text": [
      "/tmp/ipykernel_99224/3608076599.py:59: DeprecationWarning: 'mode' parameter is deprecated and will be removed in Pillow 13 (2026-10-15)\n",
      "  image = Image.fromarray(rgba_image_data, 'RGBA')\n"
     ]
    },
    {
     "name": "stdout",
     "output_type": "stream",
     "text": [
      "✅ Interactive map with legend created.\n"
     ]
    },
    {
     "data": {
      "application/vnd.jupyter.widget-view+json": {
       "model_id": "02935ba326a7442ab07ca1762f762169",
       "version_major": 2,
       "version_minor": 0
      },
      "text/plain": [
       "VBox(children=(Map(center=[52.1009598523252, 0.10855127381018295], controls=(ZoomControl(options=['position', …"
      ]
     },
     "metadata": {},
     "output_type": "display_data"
    }
   ],
   "source": [
    "# Define paths to your data\n",
    "labels_json_file = f'/home/jk871/tessera-interactive-map/cambridge_labels.json'\n",
    "CLASSIFIED_TILE = \"/home/jk871/cci_workshop/classification_outputs/Cambridge/bounding_box.tif\"\n",
    "\n",
    "labels = classifier_utils.load_training_labels_from_json(labels_json_file)\n",
    "label_to_id, id_to_label, class_colors = classifier_utils.load_visualization_mappings(labels_json_file)\n",
    "\n",
    "interactive_map = create_interactive_map(\n",
    "    classified_raster_path=CLASSIFIED_TILE,\n",
    "    training_points=labels,\n",
    "    id_to_label=id_to_label,\n",
    "    class_colors_hex=class_colors\n",
    ")\n",
    "\n",
    "display(interactive_map)"
   ]
  },
  {
   "cell_type": "code",
   "execution_count": null,
   "metadata": {},
   "outputs": [],
   "source": []
  }
 ],
 "metadata": {
  "kernelspec": {
   "display_name": "tessera",
   "language": "python",
   "name": "tessera"
  },
  "language_info": {
   "codemirror_mode": {
    "name": "ipython",
    "version": 3
   },
   "file_extension": ".py",
   "mimetype": "text/x-python",
   "name": "python",
   "nbconvert_exporter": "python",
   "pygments_lexer": "ipython3",
   "version": "3.11.6"
  }
 },
 "nbformat": 4,
 "nbformat_minor": 4
}
