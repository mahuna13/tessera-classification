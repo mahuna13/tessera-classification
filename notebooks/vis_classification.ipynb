{
 "cells": [
  {
   "cell_type": "code",
   "execution_count": 1,
   "metadata": {},
   "outputs": [],
   "source": [
    "import json\n",
    "import rasterio\n",
    "import rasterio.plot\n",
    "import matplotlib.pyplot as plt\n",
    "from matplotlib.patches import Patch\n",
    "from rasterio.warp import calculate_default_transform, reproject, Resampling\n",
    "import numpy as np\n",
    "from pyproj import Transformer\n",
    "import pandas as pd\n",
    "from typing import Dict\n",
    "from tesseraclassifier import classifier_utils\n",
    "import json\n",
    "import base64\n",
    "from io import BytesIO\n",
    "\n",
    "import json\n",
    "from typing import Dict, List, Tuple\n",
    "\n",
    "# Assume these other imports are available for the interactive map function\n",
    "import base64\n",
    "from io import BytesIO\n",
    "import numpy as np\n",
    "import rasterio\n",
    "import rasterio.warp\n",
    "from PIL import Image\n",
    "import ipywidgets as widgets\n",
    "from ipyleaflet import (Map, TileLayer, CircleMarker, LayerGroup, \n",
    "                        FullScreenControl, LayersControl, ImageOverlay, WidgetControl)\n",
    "from IPython.display import display\n",
    "import geopandas as gpd\n",
    "import ipywidgets as widgets\n",
    "from ipyleaflet import Map, TileLayer, CircleMarker, LayerGroup, FullScreenControl, LayersControl, ImageOverlay\n",
    "from IPython.display import display\n",
    "import numpy as np\n",
    "import rasterio\n",
    "import rasterio.warp\n",
    "from PIL import Image\n",
    "from typing import Dict"
   ]
  },
  {
   "cell_type": "code",
   "execution_count": 2,
   "metadata": {},
   "outputs": [],
   "source": [
    "def create_interactive_map(\n",
    "    classified_raster_path: str,\n",
    "    training_points: list,\n",
    "    id_to_label: Dict[int, str],\n",
    "    class_colors_hex: Dict[str, str]\n",
    "):\n",
    "    \"\"\"\n",
    "    Creates a correctly aligned interactive map using pre-loaded mapping dictionaries.\n",
    "    \"\"\"\n",
    "    # 1. Create a numeric colormap from the provided mappings\n",
    "    max_id = max(id_to_label.keys()) if id_to_label else 0\n",
    "    colormap = np.zeros((max_id + 1, 3), dtype=np.uint8)\n",
    "    for class_id, label in id_to_label.items():\n",
    "        hex_color = class_colors_hex.get(label, \"#FF00FF\") # Default to magenta\n",
    "        rgb = tuple(int(hex_color.lstrip('#')[i:i+2], 16) for i in (0, 2, 4))\n",
    "        colormap[class_id] = rgb\n",
    "\n",
    "    # 2. Convert Raster to PNG and get correct bounds\n",
    "    print(\"Converting raster and calculating bounds...\")\n",
    "    with rasterio.open(classified_raster_path) as src:\n",
    "        left, bottom, right, top = rasterio.warp.transform_bounds(src.crs, 'EPSG:4326', *src.bounds)\n",
    "        image_bounds = [[bottom, left], [top, right]]\n",
    "        \n",
    "        data = src.read(1)\n",
    "        nodata_value = src.nodata if src.nodata is not None else -1\n",
    "        alpha = np.where(data == nodata_value, 0, 255).astype(np.uint8)\n",
    "        rgba_image_data = np.dstack((colormap[data], alpha))\n",
    "        \n",
    "        image = Image.fromarray(rgba_image_data, 'RGBA')\n",
    "        buffer = BytesIO()\n",
    "        image.save(buffer, 'PNG')\n",
    "        data_url = 'data:image/png;base64,' + base64.b64encode(buffer.getvalue()).decode('utf-8')\n",
    "\n",
    "    # 3. Create Map and Overlays\n",
    "    center_lat = (image_bounds[0][0] + image_bounds[1][0]) / 2\n",
    "    center_lon = (image_bounds[0][1] + image_bounds[1][1]) / 2\n",
    "\n",
    "    m = Map(center=(center_lat, center_lon), zoom=10)\n",
    "    m.add(TileLayer(url='https://server.arcgisonline.com/ArcGIS/rest/services/World_Imagery/MapServer/tile/{z}/{y}/{x}', name='Esri Satellite'))\n",
    "    m.add(LayersControl(position='topright'))\n",
    "    m.add(FullScreenControl())\n",
    "\n",
    "    classification_overlay = ImageOverlay(url=data_url, bounds=image_bounds, name=\"Classification\")\n",
    "    m.add(classification_overlay)\n",
    "    \n",
    "    markers = [CircleMarker(location=(p['lat'], p['lon']), radius=5, color=\"white\", weight=1,\n",
    "                            fill_color=class_colors_hex.get(p['label'], \"#FF00FF\"), fill_opacity=0.8)\n",
    "               for p in training_points]\n",
    "    points_layer = LayerGroup(layers=markers, name=\"Training Points\")\n",
    "    m.add(points_layer)\n",
    "\n",
    "    # 4. Create Legend\n",
    "    '''legend_html = \"<h4>Classification Legend</h4>\"\n",
    "    legend_html += '<div style=\"background-color: rgba(255, 255, 255, 0.8); padding: 10px; border-radius: 5px;\">'\n",
    "    for class_id, label in sorted(id_to_label.items()):\n",
    "        color = class_colors_hex.get(label, \"#FF00FF\")\n",
    "        legend_html += f'<div><i style=\"background:{color}; width: 15px; height: 15px; display: inline-block; border: 1px solid black; margin-right: 5px;\"></i>{label}</div>'\n",
    "    legend_html += \"</div>\"\n",
    "    \n",
    "    legend_widget = widgets.HTML(value=legend_html)\n",
    "    legend_control = WidgetControl(widget=legend_widget, position='bottomright')\n",
    "    m.add(legend_control)'''\n",
    "\n",
    "    # 5. Create Opacity Control\n",
    "    opacity_slider = widgets.FloatSlider(value=0.7, min=0, max=1.0, step=0.05, description='Opacity:')\n",
    "    def update_opacity(change):\n",
    "        classification_overlay.opacity = change['new']\n",
    "    opacity_slider.observe(update_opacity, names='value')\n",
    "    update_opacity({'new': opacity_slider.value})\n",
    "\n",
    "    print(\"✅ Interactive map with legend created.\")\n",
    "    return widgets.VBox([m, opacity_slider])\n",
    "\n",
    "\n"
   ]
  },
  {
   "cell_type": "code",
   "execution_count": 3,
   "metadata": {},
   "outputs": [
    {
     "name": "stdout",
     "output_type": "stream",
     "text": [
      "119\n",
      "--- Loading Mappings for Visualization ---\n",
      "Generated class mappings from all labels in the file.\n",
      "Loaded 13 color definitions.\n",
      "✅ Mappings ready for visualization.\n",
      "Converting raster and calculating bounds...\n"
     ]
    },
    {
     "name": "stderr",
     "output_type": "stream",
     "text": [
      "/tmp/ipykernel_2170321/1432996952.py:29: DeprecationWarning: 'mode' parameter is deprecated and will be removed in Pillow 13 (2026-10-15)\n",
      "  image = Image.fromarray(rgba_image_data, 'RGBA')\n"
     ]
    },
    {
     "name": "stdout",
     "output_type": "stream",
     "text": [
      "✅ Interactive map with legend created.\n"
     ]
    }
   ],
   "source": [
    "# Define paths to your data\n",
    "labels_json_file = f'../workshop_labels/cairngorms_labels.json'\n",
    "CLASSIFIED_TILE = \"/home/jk871/cci_workshop/classification_outputs/Cairngorms/entire_roi.tif\"\n",
    "\n",
    "labels = classifier_utils.load_training_labels_from_json(labels_json_file)\n",
    "label_to_id, id_to_label, class_colors = classifier_utils.load_visualization_mappings(labels_json_file)\n",
    "\n",
    "interactive_map = create_interactive_map(\n",
    "    classified_raster_path=CLASSIFIED_TILE,\n",
    "    training_points=labels,\n",
    "    id_to_label=id_to_label,\n",
    "    class_colors_hex=class_colors\n",
    ")"
   ]
  },
  {
   "cell_type": "code",
   "execution_count": 4,
   "metadata": {},
   "outputs": [
    {
     "data": {
      "application/vnd.jupyter.widget-view+json": {
       "model_id": "c6518cde0c114c26beb4ec4472318ba8",
       "version_major": 2,
       "version_minor": 0
      },
      "text/plain": [
       "VBox(children=(Map(center=[56.99780161225047, -3.7092926521394745], controls=(ZoomControl(options=['position',…"
      ]
     },
     "metadata": {},
     "output_type": "display_data"
    }
   ],
   "source": [
    "display(interactive_map)"
   ]
  },
  {
   "cell_type": "code",
   "execution_count": null,
   "metadata": {},
   "outputs": [],
   "source": []
  }
 ],
 "metadata": {
  "kernelspec": {
   "display_name": "tessera",
   "language": "python",
   "name": "tessera"
  },
  "language_info": {
   "codemirror_mode": {
    "name": "ipython",
    "version": 3
   },
   "file_extension": ".py",
   "mimetype": "text/x-python",
   "name": "python",
   "nbconvert_exporter": "python",
   "pygments_lexer": "ipython3",
   "version": "3.13.3"
  },
  "orig_nbformat": 4
 },
 "nbformat": 4,
 "nbformat_minor": 2
}
