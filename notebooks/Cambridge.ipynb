{
 "cells": [
  {
   "cell_type": "code",
   "execution_count": 46,
   "id": "277c3832-6548-4c94-ae98-135671946b40",
   "metadata": {},
   "outputs": [
    {
     "data": {
      "text/plain": [
       "<module 'tesseraclassifier.habitat_classifier' from '/home/jk871/tessera-classification/src/tesseraclassifier/habitat_classifier.py'>"
      ]
     },
     "execution_count": 46,
     "metadata": {},
     "output_type": "execute_result"
    }
   ],
   "source": [
    "from tesseraclassifier import habitat_classifier\n",
    "from tesseraclassifier import classifier_utils\n",
    "import geopandas as gpd\n",
    "import tempfile\n",
    "\n",
    "import importlib\n",
    "importlib.reload(classifier_utils)\n",
    "importlib.reload(habitat_classifier)\n"
   ]
  },
  {
   "cell_type": "code",
   "execution_count": 4,
   "id": "894c7eb2-b41c-488b-b5f6-356eb0bcc327",
   "metadata": {},
   "outputs": [],
   "source": [
    "roi_name = \"Cambridge\"\n",
    "dir_path = \"/home/jk871/cci_workshop\"\n",
    "\n",
    "labels_json_file = f'/home/jk871/tessera-interactive-map/cambridge_labels.json'\n",
    "labels = classifier_utils.load_training_labels_from_json(labels_json_file)\n",
    "\n",
    "output_dir = f\"{dir_path}/classification_outputs/{roi_name}\""
   ]
  },
  {
   "cell_type": "code",
   "execution_count": 5,
   "id": "b68636db-215b-41ea-8874-1a5dc2a26d24",
   "metadata": {},
   "outputs": [
    {
     "name": "stdout",
     "output_type": "stream",
     "text": [
      "\n",
      "--- Step 1: Preparing Training Data ---\n",
      "Fetching list of all available tiles...\n"
     ]
    },
    {
     "name": "stderr",
     "output_type": "stream",
     "text": [
      "Downloading file 'grid_-0.05_51.95.tiff' from 'https://dl-2.tessera.wiki/v1/global_0.1_degree_tiff_all/grid_-0.05_51.95.tiff' to '/tessera/v1'.\n",
      "Downloading file 'grid_0.05_51.95.tiff' from 'https://dl-2.tessera.wiki/v1/global_0.1_degree_tiff_all/grid_0.05_51.95.tiff' to '/tessera/v1'.\n",
      "Downloading file 'grid_0.15_51.95.tiff' from 'https://dl-2.tessera.wiki/v1/global_0.1_degree_tiff_all/grid_0.15_51.95.tiff' to '/tessera/v1'.\n",
      "Downloading file 'grid_0.25_51.95.tiff' from 'https://dl-2.tessera.wiki/v1/global_0.1_degree_tiff_all/grid_0.25_51.95.tiff' to '/tessera/v1'.\n"
     ]
    },
    {
     "name": "stdout",
     "output_type": "stream",
     "text": [
      "Found 146452 total available tiles             for 2024.\n",
      "\n",
      "Processing point 1/36 at                     (52.1439, 0.0907)...\n",
      "  > Match found! Point belongs to tile (52.15, 0.05).\n",
      "\n",
      "Processing point 2/36 at                     (52.1443, 0.1440)...\n",
      "  > Match found! Point belongs to tile (52.15, 0.15).\n",
      "\n",
      "Processing point 3/36 at                     (52.1398, 0.1229)...\n",
      "  > Match found! Point belongs to tile (52.15, 0.15).\n",
      "\n",
      "Processing point 4/36 at                     (52.1409, 0.1313)...\n",
      "  > Match found! Point belongs to tile (52.15, 0.15).\n",
      "\n",
      "Processing point 5/36 at                     (52.1411, 0.1337)...\n",
      "  > Match found! Point belongs to tile (52.15, 0.15).\n",
      "\n",
      "Processing point 6/36 at                     (52.1370, 0.1060)...\n",
      "  > Match found! Point belongs to tile (52.15, 0.15).\n",
      "\n",
      "Processing point 7/36 at                     (52.1343, 0.1039)...\n",
      "  > Match found! Point belongs to tile (52.15, 0.05).\n",
      "\n",
      "Processing point 8/36 at                     (52.1294, 0.1093)...\n",
      "  > Match found! Point belongs to tile (52.15, 0.15).\n",
      "\n",
      "Processing point 9/36 at                     (52.1316, 0.1089)...\n",
      "  > Match found! Point belongs to tile (52.15, 0.15).\n",
      "\n",
      "Processing point 10/36 at                     (52.1308, 0.1269)...\n",
      "  > Match found! Point belongs to tile (52.15, 0.15).\n",
      "\n",
      "Processing point 11/36 at                     (52.1292, 0.1308)...\n",
      "  > Match found! Point belongs to tile (52.15, 0.15).\n",
      "\n",
      "Processing point 12/36 at                     (52.1253, 0.1283)...\n",
      "  > Match found! Point belongs to tile (52.15, 0.15).\n",
      "\n",
      "Processing point 13/36 at                     (52.1241, 0.1214)...\n",
      "  > Match found! Point belongs to tile (52.15, 0.15).\n",
      "\n",
      "Processing point 14/36 at                     (52.1231, 0.1202)...\n",
      "  > Match found! Point belongs to tile (52.15, 0.15).\n",
      "\n",
      "Processing point 15/36 at                     (52.1220, 0.1378)...\n",
      "  > Match found! Point belongs to tile (52.15, 0.15).\n",
      "\n",
      "Processing point 16/36 at                     (52.1241, 0.1383)...\n",
      "  > Match found! Point belongs to tile (52.15, 0.15).\n",
      "\n",
      "Processing point 17/36 at                     (52.1314, 0.1486)...\n",
      "  > Match found! Point belongs to tile (52.15, 0.15).\n",
      "\n",
      "Processing point 18/36 at                     (52.1325, 0.1486)...\n",
      "  > Match found! Point belongs to tile (52.15, 0.15).\n",
      "\n",
      "Processing point 19/36 at                     (52.1372, 0.1436)...\n",
      "  > Match found! Point belongs to tile (52.15, 0.15).\n",
      "\n",
      "Processing point 20/36 at                     (52.1388, 0.1436)...\n",
      "  > Match found! Point belongs to tile (52.15, 0.15).\n",
      "\n",
      "Processing point 21/36 at                     (52.1455, 0.1446)...\n",
      "  > Match found! Point belongs to tile (52.15, 0.15).\n",
      "\n",
      "Processing point 22/36 at                     (52.1461, 0.1429)...\n",
      "  > Match found! Point belongs to tile (52.15, 0.15).\n",
      "\n",
      "Processing point 23/36 at                     (52.1467, 0.1448)...\n",
      "  > Match found! Point belongs to tile (52.15, 0.15).\n",
      "\n",
      "Processing point 24/36 at                     (52.1484, 0.1584)...\n"
     ]
    },
    {
     "name": "stderr",
     "output_type": "stream",
     "text": [
      "Downloading file 'grid_0.35_51.95.tiff' from 'https://dl-2.tessera.wiki/v1/global_0.1_degree_tiff_all/grid_0.35_51.95.tiff' to '/tessera/v1'.\n",
      "Downloading file 'grid_0.35_52.05.tiff' from 'https://dl-2.tessera.wiki/v1/global_0.1_degree_tiff_all/grid_0.35_52.05.tiff' to '/tessera/v1'.\n"
     ]
    },
    {
     "name": "stdout",
     "output_type": "stream",
     "text": [
      "  > Match found! Point belongs to tile (52.15, 0.15).\n",
      "\n",
      "Processing point 25/36 at                     (52.1500, 0.1609)...\n",
      "  > Match found! Point belongs to tile (52.15, 0.15).\n",
      "\n",
      "Processing point 26/36 at                     (52.1500, 0.1670)...\n",
      "  > Match found! Point belongs to tile (52.15, 0.15).\n",
      "\n",
      "Processing point 27/36 at                     (52.1516, 0.1673)...\n",
      "  > Match found! Point belongs to tile (52.15, 0.15).\n",
      "\n",
      "Processing point 28/36 at                     (52.1514, 0.1613)...\n",
      "  > Match found! Point belongs to tile (52.15, 0.15).\n",
      "\n",
      "Processing point 29/36 at                     (52.1562, 0.1604)...\n",
      "  > Match found! Point belongs to tile (52.15, 0.15).\n",
      "\n",
      "Processing point 30/36 at                     (52.1522, 0.1781)...\n",
      "  > Match found! Point belongs to tile (52.15, 0.15).\n",
      "\n",
      "Processing point 31/36 at                     (52.1599, 0.1506)...\n",
      "  > Match found! Point belongs to tile (52.15, 0.15).\n",
      "\n",
      "Processing point 32/36 at                     (52.1706, 0.1054)...\n",
      "  > Match found! Point belongs to tile (52.15, 0.15).\n",
      "\n",
      "Processing point 33/36 at                     (52.1654, 0.1097)...\n",
      "  > Match found! Point belongs to tile (52.15, 0.15).\n",
      "\n",
      "Processing point 34/36 at                     (52.1684, 0.1229)...\n",
      "  > Match found! Point belongs to tile (52.15, 0.15).\n",
      "\n",
      "Processing point 35/36 at                     (52.1914, 0.1372)...\n",
      "  > Match found! Point belongs to tile (52.15, 0.15).\n",
      "\n",
      "Processing point 36/36 at                     (52.1851, 0.1428)...\n",
      "  > Match found! Point belongs to tile (52.15, 0.15).\n",
      "\n",
      "Extraction complete. Creating DataFrame.\n",
      "Successfully prepared 36 training samples.\n",
      "Class mapping created:\n",
      "{'Fields': 0, 'Forest': 1, 'Urban': 2, 'Water': 3}\n",
      "Classifier initialized for year 2024.\n"
     ]
    }
   ],
   "source": [
    "hc = habitat_classifier.HabitatClassifier(labels, 2024)"
   ]
  },
  {
   "cell_type": "code",
   "execution_count": 6,
   "id": "19ab5e41-2f07-43c4-914d-0f28dc5d3b29",
   "metadata": {},
   "outputs": [
    {
     "name": "stdout",
     "output_type": "stream",
     "text": [
      "\n",
      "--- Step 2: Training Model ---\n",
      "Training model on 36 samples...\n",
      "✅ Model training complete.\n"
     ]
    }
   ],
   "source": [
    "hc.train()"
   ]
  },
  {
   "cell_type": "code",
   "execution_count": 17,
   "id": "bbe4ad60-15bb-4e9f-aff1-b71049e4143d",
   "metadata": {},
   "outputs": [
    {
     "name": "stdout",
     "output_type": "stream",
     "text": [
      "Found 2 tiles to process.\n",
      "Projecting points to a suitable local CRS: EPSG:32631\n",
      "Found 48 tiles to process.\n"
     ]
    }
   ],
   "source": [
    "# Classification dry run - just to estimate the size of each ROI\n",
    "hc.classify_tiles(None, hc.training_tiles, max_workers=8, dry_run=True)\n",
    "hc.classify_region(None, classifier_utils.roi_from_points(labels, 20), max_workers=8, dry_run=True)"
   ]
  },
  {
   "cell_type": "code",
   "execution_count": 11,
   "id": "06a55c5c-af99-4067-ad81-ca2f0dc0de41",
   "metadata": {},
   "outputs": [
    {
     "name": "stdout",
     "output_type": "stream",
     "text": [
      "Found 2 tiles to process.\n",
      "\n",
      "Starting parallel classification using up to 8 CPU cores...\n",
      "\n",
      "Parallel processing complete. 2 of 2 tiles were successfully classified.\n",
      "Intermediate classified tiles saved in: /tmp/tessera_classify_Cambridge_training_tiles_5e3qtkca\n",
      "/tmp/tessera_classify_Cambridge_training_tiles_5e3qtkca\n"
     ]
    }
   ],
   "source": [
    "key = \"training_tiles\"\n",
    "temp_dir = tempfile.mkdtemp(prefix=f\"tessera_classify_{roi_name}_{key}_\")\n",
    "hc.classify_tiles(temp_dir, hc.training_tiles, max_workers=8)\n",
    "print(temp_dir)"
   ]
  },
  {
   "cell_type": "code",
   "execution_count": 12,
   "id": "de77f3a8-fc40-4373-8e1e-a63cf1abe431",
   "metadata": {},
   "outputs": [
    {
     "name": "stdout",
     "output_type": "stream",
     "text": [
      "\n",
      "Stitching 2 tiles into a master mosaic...\n",
      "✅ Successfully created final classification map: /home/jk871/cci_workshop/classification_outputs/Cambridge/training_tiles.tif\n",
      "Cleaning up temporary directory: /tmp/tessera_classify_Cambridge_training_tiles_5e3qtkca\n"
     ]
    }
   ],
   "source": [
    "hc.mosaic_classification(temp_dir, f\"{output_dir}/{key}.tif\", cleanup=True)"
   ]
  },
  {
   "cell_type": "code",
   "execution_count": 31,
   "id": "5e75296c-7546-4d62-80ac-a7735a04d511",
   "metadata": {},
   "outputs": [
    {
     "name": "stdout",
     "output_type": "stream",
     "text": [
      "Projecting points to a suitable local CRS: EPSG:32631\n",
      "Found 48 tiles to process.\n",
      "\n",
      "Starting parallel classification using up to 30 CPU cores...\n",
      "\n",
      "Parallel processing complete. 48 of 48 tiles were successfully classified.\n",
      "Intermediate classified tiles saved in: /tmp/tessera_classify_Cambridge_bounding_box_s46lks0j\n",
      "/tmp/tessera_classify_Cambridge_bounding_box_s46lks0j\n"
     ]
    }
   ],
   "source": [
    "key = \"bounding_box\"\n",
    "temp_dir = tempfile.mkdtemp(prefix=f\"tessera_classify_{roi_name}_{key}_\")\n",
    "hc.classify_region(temp_dir, classifier_utils.roi_from_points(labels, 20), max_workers=30)\n",
    "print(temp_dir)"
   ]
  },
  {
   "cell_type": "code",
   "execution_count": 47,
   "id": "a7b5dbf3-750e-4da5-887e-821b393e3fc1",
   "metadata": {},
   "outputs": [
    {
     "name": "stdout",
     "output_type": "stream",
     "text": [
      "LALAL\n",
      "False\n",
      "Using EPSG:32630 as the common projection for stitching.\n",
      "Starting parallel reprojection of 48 tiles...\n",
      "\n",
      "Stitching 48 aligned tiles into final map...\n",
      "✅ Successfully created final classification map: /home/jk871/cci_workshop/classification_outputs/Cambridge/bounding_box.tif\n"
     ]
    }
   ],
   "source": [
    "hc.mosaic_classification(temp_dir, f\"{output_dir}/{key}.tif\", cleanup=False)"
   ]
  },
  {
   "cell_type": "code",
   "execution_count": null,
   "id": "796c7d8f-a7d8-4898-9ced-8d0336792468",
   "metadata": {},
   "outputs": [],
   "source": []
  }
 ],
 "metadata": {
  "kernelspec": {
   "display_name": "Python 3 (ipykernel)",
   "language": "python",
   "name": "python3"
  },
  "language_info": {
   "codemirror_mode": {
    "name": "ipython",
    "version": 3
   },
   "file_extension": ".py",
   "mimetype": "text/x-python",
   "name": "python",
   "nbconvert_exporter": "python",
   "pygments_lexer": "ipython3",
   "version": "3.11.6"
  }
 },
 "nbformat": 4,
 "nbformat_minor": 5
}
